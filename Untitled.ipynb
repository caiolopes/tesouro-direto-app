{
 "cells": [
  {
   "cell_type": "code",
   "execution_count": 126,
   "metadata": {},
   "outputs": [
    {
     "data": {
      "text/html": [
       "<div>\n",
       "<style scoped>\n",
       "    .dataframe tbody tr th:only-of-type {\n",
       "        vertical-align: middle;\n",
       "    }\n",
       "\n",
       "    .dataframe tbody tr th {\n",
       "        vertical-align: top;\n",
       "    }\n",
       "\n",
       "    .dataframe thead th {\n",
       "        text-align: right;\n",
       "    }\n",
       "</style>\n",
       "<table border=\"1\" class=\"dataframe\">\n",
       "  <thead>\n",
       "    <tr style=\"text-align: right;\">\n",
       "      <th></th>\n",
       "      <th>investimento</th>\n",
       "      <th>resgate</th>\n",
       "    </tr>\n",
       "    <tr>\n",
       "      <th>data_carga</th>\n",
       "      <th></th>\n",
       "      <th></th>\n",
       "    </tr>\n",
       "  </thead>\n",
       "  <tbody>\n",
       "    <tr>\n",
       "      <th>2020-07-22</th>\n",
       "      <td>0.0344</td>\n",
       "      <td>0.0444</td>\n",
       "    </tr>\n",
       "    <tr>\n",
       "      <th>2020-07-23</th>\n",
       "      <td>0.0344</td>\n",
       "      <td>0.0444</td>\n",
       "    </tr>\n",
       "  </tbody>\n",
       "</table>\n",
       "</div>"
      ],
      "text/plain": [
       "            investimento  resgate\n",
       "data_carga                       \n",
       "2020-07-22        0.0344   0.0444\n",
       "2020-07-23        0.0344   0.0444"
      ]
     },
     "execution_count": 126,
     "metadata": {},
     "output_type": "execute_result"
    }
   ],
   "source": [
    "import flask\n",
    "import pandas as pd\n",
    "import os\n",
    "files = os.listdir(path = 'data')\n",
    "def rentabilidade_dia(titulo):\n",
    "    df = pd.read_json('data/' + files[0])\n",
    "    df['data_carga'] = files[0][15:25]\n",
    "    for n in range(1,len(files)):\n",
    "        df_aux = pd.read_json('data/' + files[n])\n",
    "        df_aux['data_carga'] = files[n][15:25]\n",
    "        df = pd.concat([df,df_aux])\n",
    "    df['data_carga'] = pd.to_datetime(df['data_carga'])\n",
    "    df['vencimento'] = pd.to_datetime(df['vencimento'])\n",
    "    res = df[df['titulo'] == titulo].groupby('data_carga')[['rentabilidade_anual_investir','rentabilidade_anual_resgate']].mean()\n",
    "    res.rename(columns = {'data_carga' : 'data', 'rentabilidade_anual_investir' : 'investimento', 'rentabilidade_anual_resgate': 'resgate'}, inplace = True)\n",
    "    return res\n",
    "rentabilidade_dia('Tesouro Selic 2025')"
   ]
  }
 ],
 "metadata": {
  "kernelspec": {
   "display_name": "Python 3",
   "language": "python",
   "name": "python3"
  },
  "language_info": {
   "codemirror_mode": {
    "name": "ipython",
    "version": 3
   },
   "file_extension": ".py",
   "mimetype": "text/x-python",
   "name": "python",
   "nbconvert_exporter": "python",
   "pygments_lexer": "ipython3",
   "version": "3.7.6"
  }
 },
 "nbformat": 4,
 "nbformat_minor": 4
}
